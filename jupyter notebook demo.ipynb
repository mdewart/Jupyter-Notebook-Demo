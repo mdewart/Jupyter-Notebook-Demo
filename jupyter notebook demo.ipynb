{
 "cells": [
  {
   "cell_type": "markdown",
   "metadata": {},
   "source": [
    "# 1.0 Examples of Math and Graphs in Python"
   ]
  },
  {
   "cell_type": "markdown",
   "metadata": {},
   "source": [
    "This is a Jupyter Notebook. This text appears in a part of the Jupyter Notebook called a cell. Cells can hold headings or text formatted in Markdown or code. The cells below are headings, Python code, and text explanattions.\n",
    "\n",
    "To reset the notebook back to its original state: Kernal-->Restart and Clear Output\n",
    "\n",
    "To run the code: Cell ---> Run All"
   ]
  },
  {
   "cell_type": "markdown",
   "metadata": {},
   "source": [
    "# Math 1 (Python)"
   ]
  },
  {
   "cell_type": "markdown",
   "metadata": {},
   "source": [
    "The python code below adds two numbers and prints out the sum. "
   ]
  },
  {
   "cell_type": "code",
   "execution_count": null,
   "metadata": {},
   "outputs": [],
   "source": [
    "# Store input numbers\n",
    "num1 = input('Enter first number: ')\n",
    "num2 = input('Enter second number: ')\n",
    "# Add two numbers\n",
    "sum = float(num1) + float(num2)\n",
    "# Display the sum\n",
    "print('The sum of {0} and {1} is {2}'.format(num1, num2, sum))"
   ]
  },
  {
   "cell_type": "markdown",
   "metadata": {},
   "source": [
    "# Scatter Plot 1 (Python)"
   ]
  },
  {
   "cell_type": "markdown",
   "metadata": {},
   "source": [
    "The python code below creates a scatter plot using an equation."
   ]
  },
  {
   "cell_type": "code",
   "execution_count": 1,
   "metadata": {},
   "outputs": [],
   "source": [
    "%matplotlib inline\n",
    "import matplotlib.pyplot as plt\n",
    "plt.style.use('seaborn-whitegrid')\n",
    "import numpy as np"
   ]
  },
  {
   "cell_type": "code",
   "execution_count": 2,
   "metadata": {},
   "outputs": [
    {
     "data": {
      "image/png": "[encoded data removed]",
      "text/plain": [
       "<Figure size 432x288 with 1 Axes>"
      ]
     },
     "metadata": {
      "needs_background": "light"
     },
     "output_type": "display_data"
    }
   ],
   "source": [
    "x = np.linspace(0, 10, 30)\n",
    "y = np.sin(x)\n",
    "\n",
    "plt.plot(x, y, 'o', color='black');"
   ]
  },
  {
   "cell_type": "markdown",
   "metadata": {},
   "source": [
    "# Scatterplot 2 (Python)"
   ]
  },
  {
   "cell_type": "markdown",
   "metadata": {},
   "source": [
    "The python code below creates a scatter plot paired x,y data entered in the python code."
   ]
  },
  {
   "cell_type": "code",
   "execution_count": null,
   "metadata": {},
   "outputs": [],
   "source": [
    "import matplotlib.pyplot as plt\n",
    "\n",
    "x = [1,2,3,4,5,6,7,8,2,3,6]\n",
    "y = [5,2,4,2,1,4,5,2,4,5,4]\n",
    "\n",
    "plt.scatter(x,y, label='skitscat', color='k', s=25, marker=\"o\")\n",
    "\n",
    "plt.xlabel('x')\n",
    "plt.ylabel('y')\n",
    "plt.title('Interesting Graph\\nCheck it out')\n",
    "plt.legend()\n",
    "plt.show()"
   ]
  },
  {
   "cell_type": "markdown",
   "metadata": {},
   "source": [
    "# Simple Linear Regression"
   ]
  },
  {
   "cell_type": "markdown",
   "metadata": {},
   "source": [
    "The python code below creates fits data to a linear model by pulling the data from a csv file."
   ]
  },
  {
   "cell_type": "code",
   "execution_count": null,
   "metadata": {},
   "outputs": [],
   "source": [
    "# Simple Linear Regression\n",
    "# Importing the libraries\n",
    "\n",
    "import numpy as np\n",
    "import matplotlib.pyplot as plt\n",
    "import pandas as pd\n",
    "import sklearn\n",
    "\n",
    "# Importing the datasets\n",
    " \n",
    "datasets = pd.read_csv('data.csv')\n",
    "\n",
    "X = datasets.iloc[:, :-1].values\n",
    "Y = datasets.iloc[:, 1].values\n",
    "\n",
    "# Splitting the dataset into the Training set and Test set\n",
    "\n",
    "from sklearn.model_selection import train_test_split\n",
    "X_Train, X_Test, Y_Train, Y_Test = train_test_split(X, Y, test_size = 1/3, random_state = 0)\n",
    "\n",
    "# Fitting Simple Linear Regression to the training set\n",
    "\n",
    "from sklearn.linear_model import LinearRegression\n",
    "regressor = LinearRegression()\n",
    "regressor.fit(X_Train, Y_Train)\n",
    "\n",
    "# Predicting the Test set result ￼\n",
    "\n",
    "Y_Pred = regressor.predict(X_Test)\n",
    "\n",
    "\n",
    "# Visualising the Training set results\n",
    "\n",
    "plt.scatter(X_Train, Y_Train, color = 'red')\n",
    "plt.plot(X_Train, regressor.predict(X_Train), color = 'blue')\n",
    "plt.title('Salary vs Experience  (Training Set)')\n",
    "plt.xlabel('Years of experience')\n",
    "plt.ylabel('Salary')\n",
    "plt.show()\n",
    "\n",
    "# Visualising the Test set results\n",
    "\n",
    "plt.scatter(X_Test, Y_Test, color = 'red')\n",
    "plt.plot(X_Train, regressor.predict(X_Train), color = 'blue')\n",
    "plt.title('Salary vs Experience  (Training Set)')\n",
    "plt.xlabel('Years of experience')\n",
    "plt.ylabel('Salary')\n",
    "plt.show()"
   ]
  },
  {
   "cell_type": "markdown",
   "metadata": {},
   "source": [
    "# Simple Linear Regression 2"
   ]
  },
  {
   "cell_type": "markdown",
   "metadata": {},
   "source": [
    "The python code below creates fits data to a linear model by pulling the data from a csv file."
   ]
  },
  {
   "cell_type": "code",
   "execution_count": null,
   "metadata": {},
   "outputs": [],
   "source": [
    "# Simple Linear Regression\n",
    "# Importing the libraries\n",
    "\n",
    "import numpy as np\n",
    "import matplotlib.pyplot as plt\n",
    "import pandas as pd\n",
    "import sklearn\n",
    "\n",
    "# Importing the datasets\n",
    " \n",
    "datasets = pd.read_csv('cricket-data.csv')\n",
    "\n",
    "X = datasets.iloc[:, :-1].values\n",
    "Y = datasets.iloc[:, 1].values\n",
    "\n",
    "# Splitting the dataset into the Training set and Test set\n",
    "\n",
    "from sklearn.model_selection import train_test_split\n",
    "X_Train, X_Test, Y_Train, Y_Test = train_test_split(X, Y, test_size = 1/3, random_state = 0)\n",
    "\n",
    "# Fitting Simple Linear Regression to the training set\n",
    "\n",
    "from sklearn.linear_model import LinearRegression\n",
    "regressor = LinearRegression()\n",
    "regressor.fit(X_Train, Y_Train)\n",
    "\n",
    "# Predicting the Test set result ￼\n",
    "\n",
    "Y_Pred = regressor.predict(X_Test)\n",
    "\n",
    "\n",
    "# Visualising the Training set results\n",
    "\n",
    "plt.scatter(X_Train, Y_Train, color = 'red')\n",
    "plt.plot(X_Train, regressor.predict(X_Train), color = 'blue')\n",
    "plt.title('Cricket Chirps vs Temperature  (Training Set)')\n",
    "plt.xlabel('Temperature')\n",
    "plt.ylabel('Cricket Chirps')\n",
    "plt.show()\n",
    "\n",
    "# Visualising the Test set results\n",
    "\n",
    "plt.scatter(X_Test, Y_Test, color = 'red')\n",
    "plt.plot(X_Train, regressor.predict(X_Train), color = 'blue')\n",
    "plt.title('Salary vs Experience  (Training Set)')\n",
    "plt.xlabel('Years of experience')\n",
    "plt.ylabel('Salary')\n",
    "plt.show()"
   ]
  },
  {
   "cell_type": "code",
   "execution_count": null,
   "metadata": {},
   "outputs": [],
   "source": [
    "# Store input numbers\n",
    "num1 = input('Enter first number: ')\n",
    "num2 = input('Enter second number: ')\n",
    "# Add two numbers\n",
    "sum = float(num1) + float(num2)\n",
    "# Display the sum\n",
    "print('The sum of {0} and {1} is {2}'.format(num1, num2, sum))"
   ]
  }
 ],
 "metadata": {
  "kernelspec": {
   "display_name": "Python 3",
   "language": "python",
   "name": "python3"
  },
  "language_info": {
   "codemirror_mode": {
    "name": "ipython",
    "version": 3
   },
   "file_extension": ".py",
   "mimetype": "text/x-python",
   "name": "python",
   "nbconvert_exporter": "python",
   "pygments_lexer": "ipython3",
   "version": "3.7.4"
  }
 },
 "nbformat": 4,
 "nbformat_minor": 2
}
